{
 "cells": [
  {
   "cell_type": "code",
   "execution_count": 1,
   "id": "b723daa8-6e4b-4633-bbcb-17eefd978205",
   "metadata": {},
   "outputs": [
    {
     "name": "stdout",
     "output_type": "stream",
     "text": [
      "[[1, 2, 3, 4], [6, 7, 8, 9]]\n",
      "[[1 2 3 4]\n",
      " [6 7 8 9]]\n",
      "[[1, 2, 3, 4], [6, 7, 8, 9]]\n",
      "[[1 2 3 4]\n",
      " [6 7 8 9]]\n"
     ]
    }
   ],
   "source": [
    "#Matrix Operations\n",
    "\n",
    "import numpy as np\n",
    "\n",
    "var1=([[1,2,3,4],[6,7,8,9]])\n",
    "print(var1)\n",
    "\n",
    "vp=np.matrix(var1)\n",
    "print(vp)#Matrix Operations\n",
    "\n",
    "import numpy as np\n",
    "\n",
    "var1=([[1,2,3,4],[6,7,8,9]])\n",
    "print(var1)\n",
    "\n",
    "vp=np.matrix(var1)\n",
    "print(vp)"
   ]
  },
  {
   "cell_type": "code",
   "execution_count": 2,
   "id": "737bcc8e-2fc0-45b9-8ee4-520a83de4da1",
   "metadata": {},
   "outputs": [
    {
     "name": "stdout",
     "output_type": "stream",
     "text": [
      "[[1 2 3]\n",
      " [1 2 3]]\n",
      "int32\n"
     ]
    },
    {
     "data": {
      "text/plain": [
       "numpy.ndarray"
      ]
     },
     "execution_count": 2,
     "metadata": {},
     "output_type": "execute_result"
    }
   ],
   "source": [
    "var1 = np.array([[1,2,3],[1,2,3]])\n",
    "\n",
    "print(var1)\n",
    "print(var1.dtype)\n",
    "type(var1)"
   ]
  },
  {
   "cell_type": "code",
   "execution_count": 6,
   "id": "dc985c9a-4708-4e4e-b12c-2be75019359e",
   "metadata": {},
   "outputs": [
    {
     "name": "stdout",
     "output_type": "stream",
     "text": [
      "[[1 2]\n",
      " [5 6]]\n",
      "\n",
      "[[1 2]\n",
      " [1 2]]\n",
      "\n",
      "[[ 3  6]\n",
      " [11 22]]\n",
      "\n",
      "[[ 3  6]\n",
      " [11 22]]\n"
     ]
    }
   ],
   "source": [
    "import numpy as np\n",
    "\n",
    "var=np.matrix([[1,2],[5,6]])\n",
    "var2 = np.matrix([[1,2],[1,2]])\n",
    "\n",
    "print(var)\n",
    "print()\n",
    "print(var2)\n",
    "print()\n",
    "print(var*var2)\n",
    "print()\n",
    "print(var.dot(var2))"
   ]
  },
  {
   "cell_type": "code",
   "execution_count": 8,
   "id": "796b3b2e-bd87-40d8-b74c-ca29541d8901",
   "metadata": {},
   "outputs": [
    {
     "name": "stdout",
     "output_type": "stream",
     "text": [
      "[[1 2 3]\n",
      " [1 2 3]]\n",
      "<class 'numpy.ndarray'>\n",
      "\n",
      "[[1 4 9]\n",
      " [1 4 9]]\n"
     ]
    }
   ],
   "source": [
    "var1 = np.array([[1,2,3],[1,2,3]])\n",
    "\n",
    "print(var1)\n",
    "print(type(var1))\n",
    "print()\n",
    "print(var1*var1)"
   ]
  },
  {
   "cell_type": "code",
   "execution_count": null,
   "id": "918bb2eb-d744-4dc0-bf95-013f694334d1",
   "metadata": {},
   "outputs": [],
   "source": []
  }
 ],
 "metadata": {
  "kernelspec": {
   "display_name": "Python 3 (ipykernel)",
   "language": "python",
   "name": "python3"
  },
  "language_info": {
   "codemirror_mode": {
    "name": "ipython",
    "version": 3
   },
   "file_extension": ".py",
   "mimetype": "text/x-python",
   "name": "python",
   "nbconvert_exporter": "python",
   "pygments_lexer": "ipython3",
   "version": "3.10.2"
  }
 },
 "nbformat": 4,
 "nbformat_minor": 5
}
