{
 "cells": [
  {
   "cell_type": "code",
   "execution_count": 2,
   "id": "f3cacabd-e0ee-4022-94bb-c3c4145b0bce",
   "metadata": {},
   "outputs": [
    {
     "name": "stdout",
     "output_type": "stream",
     "text": [
      "9\n",
      "8\n",
      "7\n",
      "6\n"
     ]
    }
   ],
   "source": [
    "import numpy as np\n",
    "var = np.array([9,8,7,6])\n",
    "\n",
    "\n",
    "print(var[0])\n",
    "print(var[1])\n",
    "print(var[2])\n",
    "print(var[3])"
   ]
  },
  {
   "cell_type": "code",
   "execution_count": 3,
   "id": "3915bc86-e6c1-43e6-85ed-41f10c922004",
   "metadata": {},
   "outputs": [
    {
     "name": "stdout",
     "output_type": "stream",
     "text": [
      "[[9 8 7]\n",
      " [4 5 6]]\n",
      "2\n"
     ]
    }
   ],
   "source": [
    "var1 = np.array([[9,8,7],[4,5,6]])\n",
    "\n",
    "print(var1)\n",
    "print(var1.ndim)"
   ]
  },
  {
   "cell_type": "code",
   "execution_count": 14,
   "id": "ebae71d3-ed36-46d3-901d-812486480a0c",
   "metadata": {},
   "outputs": [
    {
     "name": "stdout",
     "output_type": "stream",
     "text": [
      "[[[1 2 3]\n",
      "  [4 5 6]]]\n",
      "3\n",
      "6\n"
     ]
    }
   ],
   "source": [
    "var2=np.array([[[1,2,3],[4,5,6]]])\n",
    "\n",
    "print(var2)\n",
    "print(var2.ndim)\n",
    "\n",
    "print(var2[0,1,2])"
   ]
  },
  {
   "cell_type": "code",
   "execution_count": 18,
   "id": "8b41b3aa-514e-4854-84ba-5d14add65215",
   "metadata": {},
   "outputs": [
    {
     "name": "stdout",
     "output_type": "stream",
     "text": [
      "[9 8 7 6 5 4]\n",
      "[9 8 7 6]\n",
      "[9 8 7 6 5 4]\n",
      "[9 8 7 6 5]\n"
     ]
    }
   ],
   "source": [
    "import numpy as np\n",
    "var = np.array([9,8,7,6,5,4])\n",
    "\n",
    "print(var)\n",
    "\n",
    "print(var[0:4])\n",
    "print(var[:])\n",
    "print(var[:5])"
   ]
  },
  {
   "cell_type": "code",
   "execution_count": 22,
   "id": "0b5c3da3-57ba-4f39-94ed-6cdf7adb5a37",
   "metadata": {},
   "outputs": [
    {
     "name": "stdout",
     "output_type": "stream",
     "text": [
      "[9 8 7 6 5]\n",
      "[8 7 6 5]\n"
     ]
    },
    {
     "data": {
      "text/plain": [
       "array([9, 7, 5])"
      ]
     },
     "execution_count": 22,
     "metadata": {},
     "output_type": "execute_result"
    }
   ],
   "source": [
    "import numpy as np\n",
    "\n",
    "var = np.array([9,8,7,6,5])\n",
    "\n",
    "print(var)\n",
    "\n",
    "print(var[1:5])\n",
    "var[0::2]"
   ]
  },
  {
   "cell_type": "code",
   "execution_count": 24,
   "id": "ad104cb7-c83b-4fef-b04d-598e651c7041",
   "metadata": {},
   "outputs": [
    {
     "name": "stdout",
     "output_type": "stream",
     "text": [
      "[[ 1  2  3  4  5]\n",
      " [ 5  6  7  8  9]\n",
      " [56 45 34 23 33]]\n",
      "\n",
      "6 to 9 : [6 7 8 9]\n"
     ]
    }
   ],
   "source": [
    "var1 = np.array([[1,2,3,4,5],[5,6,7,8,9],[56,45,34,23,33]])\n",
    "\n",
    "print(var1)\n",
    "print()\n",
    "print(\"6 to 9 :\",var1[1,1:])"
   ]
  },
  {
   "cell_type": "code",
   "execution_count": 26,
   "id": "a21763b2-430d-4f7c-8593-dc7270dd7643",
   "metadata": {},
   "outputs": [
    {
     "name": "stdout",
     "output_type": "stream",
     "text": [
      "[9 8 7 6 5]\n",
      "\n",
      "9\n",
      "8\n",
      "7\n",
      "6\n",
      "5\n"
     ]
    }
   ],
   "source": [
    "import numpy as np\n",
    "\n",
    "var = np.array([9,8,7,6,5])\n",
    "print(var)\n",
    "print()\n",
    "\n",
    "for i in var:\n",
    "    print(i)"
   ]
  },
  {
   "cell_type": "code",
   "execution_count": 28,
   "id": "c343f5a4-0799-44c9-86f0-60cf30997069",
   "metadata": {},
   "outputs": [
    {
     "name": "stdout",
     "output_type": "stream",
     "text": [
      "[[1 2 3 4]\n",
      " [1 2 3 4]]\n",
      "\n",
      "1\n",
      "2\n",
      "3\n",
      "4\n",
      "1\n",
      "2\n",
      "3\n",
      "4\n"
     ]
    }
   ],
   "source": [
    "var1 = np.array([[1,2,3,4],[1,2,3,4]])\n",
    "print(var1)\n",
    "print()\n",
    "\n",
    "for j in var1:\n",
    "    for k in j:\n",
    "        print(k)"
   ]
  },
  {
   "cell_type": "code",
   "execution_count": 33,
   "id": "26dfb36a-520e-43fd-b360-93deba0623ce",
   "metadata": {},
   "outputs": [
    {
     "name": "stdout",
     "output_type": "stream",
     "text": [
      "[[[1 2 3 4]\n",
      "  [5 6 7 8]\n",
      "  [9 8 7 6]]]\n",
      "\n",
      "1\n",
      "2\n",
      "3\n",
      "4\n",
      "5\n",
      "6\n",
      "7\n",
      "8\n",
      "9\n",
      "8\n",
      "7\n",
      "6\n",
      "[[[1 2 3 4]\n",
      "  [5 6 7 8]\n",
      "  [9 8 7 6]]]\n"
     ]
    }
   ],
   "source": [
    "var4=np.array([[[1,2,3,4],[5,6,7,8],[9,8,7,6]]])\n",
    "print(var4)\n",
    "print()\n",
    "for i in var4:\n",
    "    for j in i:\n",
    "        for k in j:\n",
    "            print(k)\n",
    "\n",
    "print(var4)"
   ]
  },
  {
   "cell_type": "code",
   "execution_count": 36,
   "id": "08f9909b-c316-4a1e-93d9-b5c7ba5fc071",
   "metadata": {},
   "outputs": [
    {
     "name": "stdout",
     "output_type": "stream",
     "text": [
      "[[[9 8 7 6]\n",
      "  [1 2 3 4]]]\n",
      "3\n",
      "\n",
      "9\n",
      "8\n",
      "7\n",
      "6\n",
      "1\n",
      "2\n",
      "3\n",
      "4\n"
     ]
    }
   ],
   "source": [
    "var3 = np.array([[[9,8,7,6],[]]])"
   ]
  },
  {
   "cell_type": "code",
   "execution_count": 40,
   "id": "d043b034-e287-4373-9583-39ac792d7d3a",
   "metadata": {},
   "outputs": [
    {
     "name": "stdout",
     "output_type": "stream",
     "text": [
      "[[[9 8 7 6]\n",
      "  [1 2 3 4]]]\n",
      "3\n",
      "\n",
      "9\n",
      "8\n",
      "7\n",
      "6\n",
      "1\n",
      "2\n",
      "3\n",
      "4\n"
     ]
    }
   ],
   "source": [
    "var3 = np.array([[[9,8,7,6],[1,2,3,4]]])\n",
    "print(var3)\n",
    "print(var3.ndim)\n",
    "print()\n",
    "\n",
    "for i in np.nditer(var3):\n",
    "    print(i)"
   ]
  },
  {
   "cell_type": "code",
   "execution_count": 58,
   "id": "78b1a71a-3ddd-4b77-b53b-920c9a052026",
   "metadata": {},
   "outputs": [
    {
     "name": "stdout",
     "output_type": "stream",
     "text": [
      "[[9 8 7 6]\n",
      " [1 2 3 4]]\n",
      "2\n",
      "b'9'\n",
      "b'8'\n",
      "b'7'\n",
      "b'6'\n",
      "b'1'\n",
      "b'2'\n",
      "b'3'\n",
      "b'4'\n"
     ]
    }
   ],
   "source": [
    "var3 = np.array([[9,8,7,6],[1,2,3,4]])\n",
    "print(var3)\n",
    "print(var3.ndim)\n",
    "for i in np.nditer(var3,flags=['buffered'],op_dtypes=['S']):\n",
    "    print(i)"
   ]
  },
  {
   "cell_type": "code",
   "execution_count": 60,
   "id": "26c0f860-1f1f-438e-8044-4f77e301ef4b",
   "metadata": {},
   "outputs": [
    {
     "name": "stdout",
     "output_type": "stream",
     "text": [
      "[[[9 8 7 6]\n",
      "  [1 2 3 4]]]\n",
      "3\n",
      "\n",
      "(0, 0, 0) 9\n",
      "(0, 0, 1) 8\n",
      "(0, 0, 2) 7\n",
      "(0, 0, 3) 6\n",
      "(0, 1, 0) 1\n",
      "(0, 1, 1) 2\n",
      "(0, 1, 2) 3\n",
      "(0, 1, 3) 4\n"
     ]
    }
   ],
   "source": [
    "var3 = np.array([[[9,8,7,6],[1,2,3,4]]])\n",
    "print(var3)\n",
    "print(var3.ndim)\n",
    "print()\n",
    "\n",
    "for i,d in np.ndenumerate(var3):\n",
    "    print(i,d)"
   ]
  },
  {
   "cell_type": "code",
   "execution_count": 65,
   "id": "d4abd10d-5210-433d-8ec6-9da8f25ee65d",
   "metadata": {},
   "outputs": [
    {
     "name": "stdout",
     "output_type": "stream",
     "text": [
      "var :  [ 1 90  3  4]\n",
      "[1 2 3 4]\n"
     ]
    }
   ],
   "source": [
    "import numpy as np\n",
    "var = np.array([1,2,3,4])\n",
    "co=var.copy()\n",
    "var[1]=90\n",
    "print(\"var : \",var)\n",
    "print(co)"
   ]
  },
  {
   "cell_type": "code",
   "execution_count": 66,
   "id": "584c73ad-636f-427c-97ae-bb0098728a1c",
   "metadata": {},
   "outputs": [
    {
     "name": "stdout",
     "output_type": "stream",
     "text": [
      "var :  [ 1 90  3  4]\n",
      "[ 1 90  3  4]\n"
     ]
    }
   ],
   "source": [
    "import numpy as np\n",
    "var = np.array([1,2,3,4])\n",
    "co=var.view()\n",
    "var[1]=90\n",
    "print(\"var : \",var)\n",
    "print(co)"
   ]
  },
  {
   "cell_type": "code",
   "execution_count": null,
   "id": "b67b0cc8-86c8-4598-a761-594395ad5057",
   "metadata": {},
   "outputs": [],
   "source": []
  }
 ],
 "metadata": {
  "kernelspec": {
   "display_name": "Python 3 (ipykernel)",
   "language": "python",
   "name": "python3"
  },
  "language_info": {
   "codemirror_mode": {
    "name": "ipython",
    "version": 3
   },
   "file_extension": ".py",
   "mimetype": "text/x-python",
   "name": "python",
   "nbconvert_exporter": "python",
   "pygments_lexer": "ipython3",
   "version": "3.10.2"
  }
 },
 "nbformat": 4,
 "nbformat_minor": 5
}
