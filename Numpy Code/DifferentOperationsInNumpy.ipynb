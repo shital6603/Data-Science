{
 "cells": [
  {
   "cell_type": "code",
   "execution_count": 1,
   "id": "add865ac-6c6c-430e-b938-6e71f73f563b",
   "metadata": {},
   "outputs": [],
   "source": [
    "#Arithmetic Operations"
   ]
  },
  {
   "cell_type": "code",
   "execution_count": 1,
   "id": "40df032d-75d3-4ac8-a010-ca38e106f42b",
   "metadata": {},
   "outputs": [
    {
     "name": "stdout",
     "output_type": "stream",
     "text": [
      "[4 5 6 7]\n"
     ]
    }
   ],
   "source": [
    "#Addition of two arrays \n",
    "#First way\n",
    "import numpy as np\n",
    "var = np.array([1,2,3,4])\n",
    "varadd = var + 3\n",
    "print(varadd)"
   ]
  },
  {
   "cell_type": "code",
   "execution_count": null,
   "id": "9223d0f0-65dc-43bb-ba9a-fbc228694009",
   "metadata": {},
   "outputs": [],
   "source": []
  },
  {
   "cell_type": "code",
   "execution_count": 3,
   "id": "f2ab2140-0250-4439-ab6b-212525910396",
   "metadata": {},
   "outputs": [
    {
     "name": "stdout",
     "output_type": "stream",
     "text": [
      "[16  9  9  9  9]\n"
     ]
    }
   ],
   "source": [
    "#Second way\n",
    "var1 = np.array([7,6,4,5,3])\n",
    "var2 = np.array([9,3,5,4,6])\n",
    "var3 = var1 + var2\n",
    "print(var3)"
   ]
  },
  {
   "cell_type": "code",
   "execution_count": 4,
   "id": "84f42d69-1898-49fb-a13e-3c1bf8c18781",
   "metadata": {},
   "outputs": [
    {
     "name": "stdout",
     "output_type": "stream",
     "text": [
      "[1 2 3 4]\n"
     ]
    }
   ],
   "source": [
    "#Subtraction of two numbers\n",
    "#First way\n",
    "var4 = np.array([3,4,5,6])\n",
    "var5 = var4 - 2\n",
    "print(var5)"
   ]
  },
  {
   "cell_type": "code",
   "execution_count": 5,
   "id": "ea8c0935-1dc8-4a00-9398-1290e7770a82",
   "metadata": {},
   "outputs": [
    {
     "name": "stdout",
     "output_type": "stream",
     "text": [
      "[30 51 72 83 15 36]\n"
     ]
    }
   ],
   "source": [
    "#Second way\n",
    "array1= np.array([34,56,78,90,23,45])\n",
    "array2 = np.array([4,5,6,7,8,9])\n",
    "array3 = array1-array2\n",
    "print(array3)"
   ]
  },
  {
   "cell_type": "code",
   "execution_count": 6,
   "id": "bd7ff3a3-4b5e-4f64-af20-0e22adeb52f1",
   "metadata": {},
   "outputs": [
    {
     "name": "stdout",
     "output_type": "stream",
     "text": [
      "[ 90 134 178  66]\n"
     ]
    }
   ],
   "source": [
    "#Multiplication of two numbers\n",
    "#First way\n",
    "arrayex1 = np.array([45,67,89,33])\n",
    "arrayex3 = arrayex1 * 2\n",
    "print(arrayex3)"
   ]
  },
  {
   "cell_type": "code",
   "execution_count": 7,
   "id": "1f4ebbdd-df61-449e-bcd6-f91b36bfb54a",
   "metadata": {},
   "outputs": [
    {
     "name": "stdout",
     "output_type": "stream",
     "text": [
      "[1485 5092 7921  726]\n"
     ]
    }
   ],
   "source": [
    "#second way\n",
    "arrayex1 = np.array([45,67,89,33])\n",
    "arrayex2 = np.array([33,76,89,22])\n",
    "arrayex3 = arrayex1 * arrayex2\n",
    "print(arrayex3)"
   ]
  },
  {
   "cell_type": "code",
   "execution_count": 8,
   "id": "6a78a9cd-afa1-48da-be95-fd237dd88d32",
   "metadata": {},
   "outputs": [
    {
     "name": "stdout",
     "output_type": "stream",
     "text": [
      "[22. 33. 44. 17.]\n"
     ]
    }
   ],
   "source": [
    "#Division of two numbers\n",
    "#First way\n",
    "arrayex1 = np.array([44,66,88,34])\n",
    "arrayex3 = arrayex1 / 2\n",
    "print(arrayex3)"
   ]
  },
  {
   "cell_type": "code",
   "execution_count": 9,
   "id": "cbd87d85-d428-4649-a9b2-1f30d8b3b3da",
   "metadata": {},
   "outputs": [
    {
     "name": "stdout",
     "output_type": "stream",
     "text": [
      "[22. 33. 44. 17.]\n"
     ]
    }
   ],
   "source": [
    "#second way\n",
    "arrayex1 = np.array([44,66,88,34])\n",
    "arrayex2 = np.array([2,2,2,2])\n",
    "arrayex3 = arrayex1 / arrayex2\n",
    "print(arrayex3)"
   ]
  },
  {
   "cell_type": "code",
   "execution_count": 13,
   "id": "60d6b8f5-36c9-4cdd-a38d-658b67138935",
   "metadata": {},
   "outputs": [
    {
     "name": "stdout",
     "output_type": "stream",
     "text": [
      "[2 0 1 1]\n"
     ]
    }
   ],
   "source": [
    "#Modulous operation of two arrays\n",
    "#First way\n",
    "arrayex1 = np.array([41,66,85,34])\n",
    "arrayex3 = arrayex1 % 3\n",
    "print(arrayex3)\n"
   ]
  },
  {
   "cell_type": "code",
   "execution_count": 15,
   "id": "ca769fd9-f08b-455a-91c8-1afae3947e04",
   "metadata": {},
   "outputs": [
    {
     "name": "stdout",
     "output_type": "stream",
     "text": [
      "[2 0 1 1]\n"
     ]
    }
   ],
   "source": [
    "#second way\n",
    "arrayex1 = np.array([44,66,88,34])\n",
    "arrayex2 = np.array([3,3,3,3])\n",
    "arrayex3 = arrayex1 % arrayex2\n",
    "print(arrayex3)"
   ]
  },
  {
   "cell_type": "code",
   "execution_count": 2,
   "id": "fe27fdb8-35ba-4b6d-88ca-841fcee2a17c",
   "metadata": {},
   "outputs": [],
   "source": [
    "#2D Arrays"
   ]
  },
  {
   "cell_type": "code",
   "execution_count": 7,
   "id": "37166a0b-3d0f-4469-bf09-82bbbbc02af6",
   "metadata": {},
   "outputs": [
    {
     "name": "stdout",
     "output_type": "stream",
     "text": [
      "[[1 2 3 4]\n",
      " [1 2 3 4]]\n",
      "\n",
      "[[11 12 13 14]\n",
      " [11 12 13 14]]\n",
      "\n",
      "[[12 14 16 18]\n",
      " [12 14 16 18]]\n"
     ]
    }
   ],
   "source": [
    "var21 = np.array([[1,2,3,4],[1,2,3,4]])\n",
    "var22 = np.array([[11,12,13,14],[11,12,13,14]])\n",
    "print(var21)\n",
    "print()\n",
    "print(var22)\n",
    "print()\n",
    "varadd2 = var21 + var22\n",
    "print(varadd2)\n"
   ]
  },
  {
   "cell_type": "code",
   "execution_count": 8,
   "id": "399976c8-0fef-47e1-8e0d-be1f1f3b92e7",
   "metadata": {},
   "outputs": [],
   "source": [
    "#operations on array in python"
   ]
  },
  {
   "cell_type": "code",
   "execution_count": 10,
   "id": "42abc945-65a2-44f2-9d6d-ce7a5938cf4a",
   "metadata": {},
   "outputs": [
    {
     "name": "stdout",
     "output_type": "stream",
     "text": [
      "1\n",
      "9\n"
     ]
    }
   ],
   "source": [
    "import numpy as np\n",
    "var = np.array([1,2,3,4,9,5,3])\n",
    "print(np.min(var))\n",
    "print(np.max(var))"
   ]
  },
  {
   "cell_type": "code",
   "execution_count": 17,
   "id": "92c5f4ac-9ea8-44f5-a6c3-71cd9551972c",
   "metadata": {},
   "outputs": [
    {
     "name": "stdout",
     "output_type": "stream",
     "text": [
      "2 0\n",
      "9 5\n"
     ]
    }
   ],
   "source": [
    "var1 = np.array([2,3,4,5,6,9,8,7])\n",
    "print(np.min(var1),np.argmin(var1))\n",
    "print(np.max(var1),np.argmax(var1))"
   ]
  },
  {
   "cell_type": "code",
   "execution_count": 34,
   "id": "337871e9-25d3-4f15-a36e-8190c113444f",
   "metadata": {},
   "outputs": [
    {
     "name": "stdout",
     "output_type": "stream",
     "text": [
      "[4 8]\n"
     ]
    }
   ],
   "source": [
    "val1 = ([1,2,3,4],[5,6,7,8])\n",
    "print(np.max(val1,axis=1))"
   ]
  },
  {
   "cell_type": "code",
   "execution_count": 36,
   "id": "94050a62-509b-45d6-92b5-464832877c8a",
   "metadata": {},
   "outputs": [
    {
     "name": "stdout",
     "output_type": "stream",
     "text": [
      "Minimum values: 1\n",
      "Maximum values: 5\n",
      "Square root : [1.73205081 1.41421356 1.         2.         2.23606798 1.73205081\n",
      " 1.41421356]\n"
     ]
    }
   ],
   "source": [
    "import numpy as np\n",
    "var = np.array([3,2,1,4,5,3,2])\n",
    "print(\"Minimum values:\",np.min(var))\n",
    "print(\"Maximum values:\",np.max(var))\n",
    "print(\"Square root :\",np.sqrt(var))"
   ]
  },
  {
   "cell_type": "code",
   "execution_count": 37,
   "id": "219d86f5-82e4-497f-8b9d-5cc02f3f5abc",
   "metadata": {},
   "outputs": [
    {
     "name": "stdout",
     "output_type": "stream",
     "text": [
      "[0.84147098 0.90929743 0.14112001]\n"
     ]
    }
   ],
   "source": [
    "var2 = np.array([1,2,3])\n",
    "print(np.sin(var2))"
   ]
  },
  {
   "cell_type": "code",
   "execution_count": 38,
   "id": "1ace7ad0-cf4f-4039-a146-bc413cf70af0",
   "metadata": {},
   "outputs": [
    {
     "name": "stdout",
     "output_type": "stream",
     "text": [
      "[ 0.14112001 -0.7568025  -0.2794155   0.6569866 ]\n"
     ]
    }
   ],
   "source": [
    "var2 = np.array([3,4,6,7])\n",
    "print(np.sin(var2))"
   ]
  },
  {
   "cell_type": "code",
   "execution_count": 49,
   "id": "86c4199f-71f8-492e-b972-3cf3bb54a0e6",
   "metadata": {},
   "outputs": [
    {
     "name": "stdout",
     "output_type": "stream",
     "text": [
      "[[ 0.85322011 -0.85780309  0.03982088]\n",
      " [ 0.52532199 -0.44807362  0.15425145]]\n"
     ]
    }
   ],
   "source": [
    "var2 = np.array([[56,78,99],[45,90,30]])\n",
    "print(np.cos(var2))"
   ]
  },
  {
   "cell_type": "code",
   "execution_count": 53,
   "id": "2722eb83-0fde-437d-93fd-23cde0c3e389",
   "metadata": {},
   "outputs": [
    {
     "name": "stdout",
     "output_type": "stream",
     "text": [
      "1\n",
      "9\n",
      "[ 2  3  6 15 21 28]\n"
     ]
    }
   ],
   "source": [
    "var1 = np.array([[2,1,3],[9,6,7]])\n",
    "print(np.min(var1))\n",
    "print(np.max(var1))\n",
    "print(np.cumsum(var1))"
   ]
  },
  {
   "cell_type": "code",
   "execution_count": 55,
   "id": "4966980a-1ab3-4e43-9490-6522fb68972d",
   "metadata": {},
   "outputs": [
    {
     "name": "stdout",
     "output_type": "stream",
     "text": [
      "[ 1  3  6 10 15 21]\n"
     ]
    }
   ],
   "source": [
    "var2 = [(1,2,3,4,5,6,)]\n",
    "print(np.cumsum(var2))"
   ]
  },
  {
   "cell_type": "code",
   "execution_count": 56,
   "id": "7658c6ae-d6c2-4e94-a522-beab97efe233",
   "metadata": {},
   "outputs": [
    {
     "name": "stdout",
     "output_type": "stream",
     "text": [
      "[ 1  3  6 10 15 21]\n"
     ]
    }
   ],
   "source": [
    "print(np.cumsum(var2))"
   ]
  },
  {
   "cell_type": "code",
   "execution_count": 57,
   "id": "2362a82d-c118-437f-8b3a-9522039e87f9",
   "metadata": {},
   "outputs": [
    {
     "name": "stdout",
     "output_type": "stream",
     "text": [
      "[ 1  3  7 12 18]\n"
     ]
    }
   ],
   "source": [
    "var2 = [(1,2,4,5,6)]\n",
    "print(np.cumsum(var2))"
   ]
  },
  {
   "cell_type": "code",
   "execution_count": 58,
   "id": "86e499b0-7308-4532-a8f6-228b4ce9fc44",
   "metadata": {},
   "outputs": [],
   "source": [
    "#Shape in Numpy"
   ]
  },
  {
   "cell_type": "code",
   "execution_count": 70,
   "id": "f5f85ad3-37d2-4845-b6b3-011eb28e3f08",
   "metadata": {},
   "outputs": [
    {
     "name": "stdout",
     "output_type": "stream",
     "text": [
      "[ 1  3  6 10 14 19 25 32]\n"
     ]
    }
   ],
   "source": [
    "import numpy as np\n",
    "var1 = np.array([[1,2,3,4],[4,5,6,7]])\n",
    "print(np.cumsum(var1))"
   ]
  },
  {
   "cell_type": "code",
   "execution_count": 94,
   "id": "3770ebe9-6dd2-4af8-9d3e-2ce61708e660",
   "metadata": {},
   "outputs": [
    {
     "name": "stdout",
     "output_type": "stream",
     "text": [
      "[[[[1 2 3 4 5]]]]\n",
      "(1, 1, 1, 5)\n"
     ]
    }
   ],
   "source": [
    "var1 = np.array([1,2,3,4,5], ndmin = 4)\n",
    "print(var1)\n",
    "\n",
    "print(var1.shape)"
   ]
  },
  {
   "cell_type": "code",
   "execution_count": 97,
   "id": "2d5a6df6-9e13-437b-91d9-fada23d03a8b",
   "metadata": {},
   "outputs": [
    {
     "name": "stdout",
     "output_type": "stream",
     "text": [
      "[[[[1 2 3 4 5 6]]]]\n",
      "4\n",
      "\n"
     ]
    }
   ],
   "source": [
    "var2 = np.array([1,2,3,4,5,6],ndmin=4)\n",
    "print(var2)\n",
    "print(var2.ndim)\n",
    "print()"
   ]
  },
  {
   "cell_type": "code",
   "execution_count": 106,
   "id": "8ad6ba0c-9576-43f6-ba88-312e808f5731",
   "metadata": {},
   "outputs": [
    {
     "name": "stdout",
     "output_type": "stream",
     "text": [
      "[1 2 3 4 5 6]\n",
      "[[1 2]\n",
      " [3 4]\n",
      " [5 6]]\n",
      "1\n"
     ]
    }
   ],
   "source": [
    "var1 = np.array([1,2,3,4,5,6])\n",
    "print(var1)\n",
    "print(var1.reshape(3,2))\n",
    "print(var1.ndim)"
   ]
  },
  {
   "cell_type": "code",
   "execution_count": 109,
   "id": "bdfb28c1-ccaa-4f43-8115-d422281d2032",
   "metadata": {},
   "outputs": [
    {
     "name": "stdout",
     "output_type": "stream",
     "text": [
      "[1 2 3 4]\n",
      "[[1 2]\n",
      " [3 4]]\n",
      "[1 2 3 4]\n"
     ]
    }
   ],
   "source": [
    "var1 = np.array([1,2,3,4])\n",
    "print(var1)\n",
    "print(var1.reshape(2,2))\n",
    "print(var1)"
   ]
  },
  {
   "cell_type": "code",
   "execution_count": 149,
   "id": "f7e702be-4de5-4cea-acb5-76ad8421c2ba",
   "metadata": {},
   "outputs": [
    {
     "name": "stdout",
     "output_type": "stream",
     "text": [
      "[ 1  2  3  4  5  6  7  8  9 12 11 77]\n",
      "1\n",
      "[[ 1  2  3  4]\n",
      " [ 5  6  7  8]\n",
      " [ 9 12 11 77]]\n",
      "[ 1  2  3  4  5  6  7  8  9 12 11 77]\n"
     ]
    }
   ],
   "source": [
    "var3= np.array([1,2,3,4,5,6,7,8,9,12,11,77])\n",
    "print(var3)\n",
    "print(var3.ndim)\n",
    "print(var3.reshape(3,4))\n",
    "print(var3.reshape(-1))"
   ]
  },
  {
   "cell_type": "code",
   "execution_count": 165,
   "id": "80a0e1c5-8d11-4e0e-a834-25f884adf2bf",
   "metadata": {},
   "outputs": [
    {
     "name": "stdout",
     "output_type": "stream",
     "text": [
      "(7,)\n",
      "[[4]\n",
      " [5]\n",
      " [6]\n",
      " [7]\n",
      " [8]\n",
      " [9]]\n",
      "(6, 1)\n"
     ]
    }
   ],
   "source": [
    "import numpy as np\n",
    "var1= np.array([2,3,4,5,6,7,8])\n",
    "print(var1.shape)\n",
    "\n",
    "var2 = np.array([[4],[5],[6],[7],[8],[9]])\n",
    "print(var2)\n",
    "print(var2.shape)"
   ]
  },
  {
   "cell_type": "code",
   "execution_count": null,
   "id": "7ea2f4d8-5106-4751-bcb3-50743b4da844",
   "metadata": {
    "jp-MarkdownHeadingCollapsed": true
   },
   "outputs": [],
   "source": [
    "x "
   ]
  },
  {
   "cell_type": "code",
   "execution_count": null,
   "id": "afe529c7-49f9-4624-8719-500a5b4e7abd",
   "metadata": {},
   "outputs": [],
   "source": []
  }
 ],
 "metadata": {
  "kernelspec": {
   "display_name": "Python 3 (ipykernel)",
   "language": "python",
   "name": "python3"
  },
  "language_info": {
   "codemirror_mode": {
    "name": "ipython",
    "version": 3
   },
   "file_extension": ".py",
   "mimetype": "text/x-python",
   "name": "python",
   "nbconvert_exporter": "python",
   "pygments_lexer": "ipython3",
   "version": "3.10.2"
  }
 },
 "nbformat": 4,
 "nbformat_minor": 5
}
