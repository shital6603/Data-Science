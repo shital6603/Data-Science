{
 "cells": [
  {
   "cell_type": "code",
   "execution_count": 14,
   "id": "d5e24399-66a2-47e9-80e2-d5381a6ea577",
   "metadata": {},
   "outputs": [
    {
     "name": "stdout",
     "output_type": "stream",
     "text": [
      "[3 4 1 2]\n"
     ]
    }
   ],
   "source": [
    "import numpy as np\n",
    "var = np.array([1,2,3,4])\n",
    "\n",
    "np.random.shuffle(var)\n",
    "print(var)"
   ]
  },
  {
   "cell_type": "code",
   "execution_count": 22,
   "id": "c4e43cf6-93f6-43ef-8591-93648f5d9f9e",
   "metadata": {},
   "outputs": [
    {
     "data": {
      "text/plain": [
       "array([1, 2, 3, 4, 5])"
      ]
     },
     "execution_count": 22,
     "metadata": {},
     "output_type": "execute_result"
    }
   ],
   "source": [
    "var1 = np.array([1,2,3,3,3,3,4,5])\n",
    "np.unique(var1)\n"
   ]
  },
  {
   "cell_type": "code",
   "execution_count": 33,
   "id": "21d7801a-074e-4315-bea4-df415d280f8e",
   "metadata": {},
   "outputs": [
    {
     "name": "stdout",
     "output_type": "stream",
     "text": [
      "(array([1, 2, 3, 6, 7, 9]), array([0, 1, 5, 2, 3, 4], dtype=int64), array([1, 1, 1, 2, 1, 1], dtype=int64))\n"
     ]
    }
   ],
   "source": [
    "var1=np.array([1,2,6,7,9,3,6])\n",
    "x=np.unique(var1,return_index=True,return_counts=True)\n",
    "print(x)"
   ]
  },
  {
   "cell_type": "code",
   "execution_count": 30,
   "id": "9a1ad45c-07cd-4915-bca2-44360a1e2493",
   "metadata": {},
   "outputs": [
    {
     "name": "stdout",
     "output_type": "stream",
     "text": [
      "[[1 2 3 4]\n",
      " [5 6 1 2]\n",
      " [3 4 5 6]]\n"
     ]
    }
   ],
   "source": [
    "var2 = np.array([1,2,3,4,5,6])\n",
    "y=np.resize(var2,(3,4))\n",
    "print(y)"
   ]
  },
  {
   "cell_type": "code",
   "execution_count": 39,
   "id": "3cbc92bd-35f0-4814-b17f-cc3141ad890c",
   "metadata": {},
   "outputs": [
    {
     "name": "stdout",
     "output_type": "stream",
     "text": [
      "[[1 2 3 4]\n",
      " [5 6 1 2]\n",
      " [3 4 5 6]]\n",
      "[1 2 3 4 5 6 1 2 3 4 5 6]\n"
     ]
    }
   ],
   "source": [
    "var2 = np.array([1,2,3,4,5,6])\n",
    "y= np.resize(var2,(3,4))\n",
    "print(y)\n",
    "\n",
    "print(y.flatten())"
   ]
  },
  {
   "cell_type": "code",
   "execution_count": 42,
   "id": "e4e3c135-8028-42ef-a93d-24350526cb12",
   "metadata": {},
   "outputs": [
    {
     "name": "stdout",
     "output_type": "stream",
     "text": [
      "[[1 2]\n",
      " [3 4]\n",
      " [5 6]]\n",
      "\n",
      "Flatten : [1 3 5 2 4 6]\n",
      "Ravel: [1 2 3 4 5 6]\n"
     ]
    }
   ],
   "source": [
    "var2 = np.array([1,2,3,4])\n"
   ]
  },
  {
   "cell_type": "code",
   "execution_count": 45,
   "id": "50d385a2-3f9d-4670-88ac-245aca89e582",
   "metadata": {},
   "outputs": [
    {
     "name": "stdout",
     "output_type": "stream",
     "text": [
      "[1 2 3 4]\n",
      "int32\n"
     ]
    }
   ],
   "source": [
    "import numpy as np\n",
    "\n",
    "var = np.array([1,2,3,4])\n",
    "print(var)\n",
    "print(var.dtype)"
   ]
  },
  {
   "cell_type": "code",
   "execution_count": 50,
   "id": "11dbf1ff-9392-4a65-896c-d362fde17836",
   "metadata": {},
   "outputs": [
    {
     "name": "stdout",
     "output_type": "stream",
     "text": [
      "[1, 2, 3, 4, 5]\n",
      "[ 1  2 50  3  4  5]\n"
     ]
    }
   ],
   "source": [
    "import numpy as np\n",
    "var2=([1,2,3,4,5])\n",
    "w=np.insert(var2,2,50)\n",
    "print(var2)\n",
    "print(w)"
   ]
  },
  {
   "cell_type": "code",
   "execution_count": 55,
   "id": "3cbae81b-6088-4a2f-9dac-a49c2012b2ae",
   "metadata": {},
   "outputs": [
    {
     "name": "stdout",
     "output_type": "stream",
     "text": [
      "[[ 1 44  2  3]\n",
      " [ 1 44  2  3]]\n"
     ]
    }
   ],
   "source": [
    "var1 = np.array([[1,2,3],[1,2,3]])\n",
    "v1=np.insert(var1,1,44,axis=1)\n",
    "print(v1)"
   ]
  },
  {
   "cell_type": "code",
   "execution_count": 60,
   "id": "6ce593ec-ac25-4df7-a480-3630ed770562",
   "metadata": {},
   "outputs": [
    {
     "name": "stdout",
     "output_type": "stream",
     "text": [
      "\n"
     ]
    }
   ],
   "source": [
    "import numpy as np\n",
    "v=np.array([1,2,3,4])\n",
    "d=np.delete(v,2)\n",
    "print()"
   ]
  },
  {
   "cell_type": "code",
   "execution_count": 65,
   "id": "303e0194-1c22-4437-8d32-0b8dcc223bbb",
   "metadata": {},
   "outputs": [
    {
     "name": "stdout",
     "output_type": "stream",
     "text": [
      "[[1, 2, 3, 4], [6, 7, 8, 9]]\n",
      "[[1 2 3 4]\n",
      " [6 7 8 9]]\n"
     ]
    }
   ],
   "source": []
  },
  {
   "cell_type": "code",
   "execution_count": 69,
   "id": "30d5919b-9ce3-4b8d-9fd2-66dc5d024b38",
   "metadata": {},
   "outputs": [
    {
     "name": "stdout",
     "output_type": "stream",
     "text": [
      "[[1 2 3]\n",
      " [1 2 3]]\n",
      "int32\n"
     ]
    },
    {
     "data": {
      "text/plain": [
       "numpy.ndarray"
      ]
     },
     "execution_count": 69,
     "metadata": {},
     "output_type": "execute_result"
    }
   ],
   "source": []
  },
  {
   "cell_type": "code",
   "execution_count": null,
   "id": "51a8940a-d3e5-497a-9380-fec33ed70ab5",
   "metadata": {},
   "outputs": [],
   "source": [
    "impor"
   ]
  }
 ],
 "metadata": {
  "kernelspec": {
   "display_name": "Python 3 (ipykernel)",
   "language": "python",
   "name": "python3"
  },
  "language_info": {
   "codemirror_mode": {
    "name": "ipython",
    "version": 3
   },
   "file_extension": ".py",
   "mimetype": "text/x-python",
   "name": "python",
   "nbconvert_exporter": "python",
   "pygments_lexer": "ipython3",
   "version": "3.10.2"
  }
 },
 "nbformat": 4,
 "nbformat_minor": 5
}
