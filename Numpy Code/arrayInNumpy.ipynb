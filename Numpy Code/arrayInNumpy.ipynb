{
 "cells": [
  {
   "cell_type": "code",
   "execution_count": 6,
   "id": "26bc1223-fc2e-4b51-b56b-59654807fc43",
   "metadata": {},
   "outputs": [
    {
     "name": "stdout",
     "output_type": "stream",
     "text": [
      "3.51 µs ± 19.9 ns per loop (mean ± std. dev. of 7 runs, 100,000 loops each)\n"
     ]
    }
   ],
   "source": [
    "import numpy as np\n",
    "%timeit np.arange(1,8)**4"
   ]
  },
  {
   "cell_type": "code",
   "execution_count": 2,
   "id": "9ddecaa9-65cc-42c5-b23a-43047e1e88e2",
   "metadata": {},
   "outputs": [
    {
     "name": "stdout",
     "output_type": "stream",
     "text": [
      "2.47 µs ± 156 ns per loop (mean ± std. dev. of 7 runs, 100,000 loops each)\n"
     ]
    }
   ],
   "source": [
    "%timeit [j**4 for j in range(1,9)]"
   ]
  },
  {
   "cell_type": "code",
   "execution_count": 10,
   "id": "32be0857-b3b6-4155-9575-42555419b6b9",
   "metadata": {},
   "outputs": [
    {
     "name": "stdout",
     "output_type": "stream",
     "text": [
      "[1 2 5 6 7]\n",
      "1\n"
     ]
    }
   ],
   "source": [
    "x=[1,2,5,6,7]\n",
    "y = np.array(x)\n",
    "print(y)\n",
    "y\n",
    "print(y.ndim)"
   ]
  },
  {
   "cell_type": "code",
   "execution_count": 21,
   "id": "5d74a664-df07-45e1-9ec7-e8a2a7ab2940",
   "metadata": {},
   "outputs": [
    {
     "name": "stdin",
     "output_type": "stream",
     "text": [
      "Enter the value : 11\n",
      "Enter the value : 22\n",
      "Enter the value : 33\n",
      "Enter the value : 44\n"
     ]
    },
    {
     "name": "stdout",
     "output_type": "stream",
     "text": [
      "[11 22 33 44]\n",
      "<class 'numpy.ndarray'>\n",
      "[11, 22, 33, 44]\n"
     ]
    }
   ],
   "source": [
    "list1 = []\n",
    "for i in range(1,5):\n",
    "    var = int(input(\"Enter the value :\"))\n",
    "    list1.append(var)\n",
    "con=np.array(list1) \n",
    "print(con)\n",
    "print(type(con))\n",
    "print(list1)            "
   ]
  },
  {
   "cell_type": "code",
   "execution_count": 25,
   "id": "503aca3a-286d-4574-9f95-d751f3c045ec",
   "metadata": {},
   "outputs": [
    {
     "name": "stdout",
     "output_type": "stream",
     "text": [
      "[[[1 2 3]\n",
      "  [3 4 5]\n",
      "  [6 7 8]]]\n",
      "3\n"
     ]
    }
   ],
   "source": [
    "array2 = np.array([[[1,2,3],[3,4,5],[6,7,8]]])\n",
    "print(array2)\n",
    "print(array2.ndim)"
   ]
  },
  {
   "cell_type": "code",
   "execution_count": 31,
   "id": "61f9d835-9ff4-4eab-8b0e-08ba8aca9285",
   "metadata": {},
   "outputs": [
    {
     "name": "stdout",
     "output_type": "stream",
     "text": [
      "[[[ 1  2  3  4]\n",
      "  [ 5  6  7  8]\n",
      "  [ 9  8 76  5]]]\n",
      "<class 'numpy.ndarray'>\n",
      "3\n"
     ]
    }
   ],
   "source": [
    "arex3 = np.array([[[1,2,3,4],[5,6,7,8],[9,8,76,5]]])\n",
    "print(arex3)\n",
    "print(type(arex3))\n",
    "print(arex3.ndim)"
   ]
  },
  {
   "cell_type": "code",
   "execution_count": 36,
   "id": "69691630-c92a-4674-b226-67c028197d10",
   "metadata": {},
   "outputs": [
    {
     "name": "stdout",
     "output_type": "stream",
     "text": [
      "[[[[[[[[[[1 2 3 4]]]]]]]]]]\n",
      "10\n"
     ]
    }
   ],
   "source": [
    "arex4 = np.array([1,2,3,4], ndmin = 10)\n",
    "print(arex4)\n",
    "print(arex4.ndim)\n"
   ]
  },
  {
   "cell_type": "code",
   "execution_count": null,
   "id": "2e33712a-a3cd-449f-a3e9-d1c5ea0f03d3",
   "metadata": {},
   "outputs": [],
   "source": []
  }
 ],
 "metadata": {
  "kernelspec": {
   "display_name": "Python 3 (ipykernel)",
   "language": "python",
   "name": "python3"
  },
  "language_info": {
   "codemirror_mode": {
    "name": "ipython",
    "version": 3
   },
   "file_extension": ".py",
   "mimetype": "text/x-python",
   "name": "python",
   "nbconvert_exporter": "python",
   "pygments_lexer": "ipython3",
   "version": "3.10.2"
  }
 },
 "nbformat": 4,
 "nbformat_minor": 5
}
